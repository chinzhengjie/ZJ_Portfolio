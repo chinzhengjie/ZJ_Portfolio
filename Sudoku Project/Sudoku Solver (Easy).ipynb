{
 "cells": [
  {
   "cell_type": "code",
   "execution_count": 1,
   "id": "01410a3a",
   "metadata": {},
   "outputs": [],
   "source": [
    "import numpy as np"
   ]
  },
  {
   "cell_type": "code",
   "execution_count": 272,
   "id": "a7487834",
   "metadata": {},
   "outputs": [],
   "source": [
    "def sudoku_solver(board):\n",
    "    \n",
    "    def draw_board(board):\n",
    "        \n",
    "        # Check if the board is an array and the correct size\n",
    "        \n",
    "        if not board.shape == (9, 9):\n",
    "            raise Exception('Board is not the correct size')\n",
    "\n",
    "        if not type(board) == np.ndarray:\n",
    "            raise Exception('Board is not an array')\n",
    "\n",
    "        board_str = board.astype(str)    \n",
    "\n",
    "        for row in range(0,9):\n",
    "\n",
    "            row_separator = '-' * 25\n",
    "            col_separator = '|'\n",
    "            space = ' '\n",
    "\n",
    "            if row % 3 == 0:\n",
    "                print(row_separator)\n",
    "\n",
    "            curr_row = board_str[row]\n",
    "\n",
    "            print(col_separator + space + curr_row[0] + space + curr_row[1] + space + curr_row[2] + space + \\\n",
    "                  col_separator + space + curr_row[3] + space + curr_row[4] + space + curr_row[5] + space + \\\n",
    "                  col_separator + space + curr_row[6] + space + curr_row[7] + space + curr_row[8] + space + col_separator)\n",
    "\n",
    "        print(row_separator)\n",
    "    \n",
    "    \n",
    "    def impossible_numbers(board, row, col):\n",
    "    \n",
    "        if board[row][col] == 0:\n",
    "            row_nums = np.unique(board[row])\n",
    "            col_nums = np.unique(board[:,col])\n",
    "\n",
    "            subset_row = row//3\n",
    "            subset_col = col//3\n",
    "            \n",
    "            \n",
    "            # Determine which 3x3 area the selected square is in\n",
    "\n",
    "            if subset_row == 0:\n",
    "                subset_row_index = slice(0,3)\n",
    "\n",
    "            if subset_row == 1:\n",
    "                subset_row_index = slice(3,6)\n",
    "\n",
    "            if subset_row == 2:\n",
    "                subset_row_index = slice(6,9)\n",
    "\n",
    "            if subset_col == 0:\n",
    "                subset_col_index = slice(0,3)\n",
    "\n",
    "            if subset_col == 1:\n",
    "                subset_col_index = slice(3,6)\n",
    "\n",
    "            if subset_col == 2:\n",
    "                subset_col_index = slice(6,9)\n",
    "\n",
    "            subset_nums = np.unique(board[subset_row_index,subset_col_index])\n",
    "            \n",
    "            \n",
    "            # Combine all 3 lists of impossible numbers\n",
    "\n",
    "            impossible_nums = np.concatenate((row_nums, col_nums, subset_nums),axis=None)\n",
    "            unique_nums = np.unique(impossible_nums)\n",
    "\n",
    "            if unique_nums[0] == 0:\n",
    "                unique_nums = np.delete(unique_nums,0)\n",
    "\n",
    "            return unique_nums\n",
    "        \n",
    "        \n",
    "    def fill_board(board, row, col):\n",
    "        if board[row][col] == 0:\n",
    "            possible_nums = [value for value in range(1,10) if value not in impossible_numbers(board, row, col)]\n",
    "            \n",
    "            \n",
    "            # Fill in the square if there is only 1 possible number\n",
    "\n",
    "            if len(possible_nums) == 1:\n",
    "                board[row][col] = possible_nums[0]\n",
    "\n",
    "            return board\n",
    "    \n",
    "    solved_board = board.copy()\n",
    "    \n",
    "    # Loop through the entire board 10 times or until it is solved\n",
    "    \n",
    "    for loop in range(10):\n",
    "        for row in range(9):\n",
    "            for col in range(9):\n",
    "                fill_board(solved_board, row, col)\n",
    "        if np.count_nonzero(solved_board==0) == 0:\n",
    "            print(\"Solved\")\n",
    "            break\n",
    "                    \n",
    "    if np.count_nonzero(solved_board==0) != 0:\n",
    "        print(\"Unsolved\")\n",
    "    \n",
    "    draw_board(solved_board)"
   ]
  },
  {
   "cell_type": "code",
   "execution_count": 14,
   "id": "35f5798b",
   "metadata": {},
   "outputs": [
    {
     "data": {
      "text/plain": [
       "array([[0, 0, 0, 0, 0, 0, 5, 7, 3],\n",
       "       [8, 0, 0, 0, 2, 0, 0, 0, 0],\n",
       "       [7, 0, 0, 9, 0, 0, 8, 1, 0],\n",
       "       [5, 8, 0, 7, 0, 6, 0, 0, 0],\n",
       "       [0, 0, 1, 8, 0, 0, 0, 6, 0],\n",
       "       [2, 3, 0, 0, 4, 0, 0, 0, 9],\n",
       "       [9, 1, 5, 0, 0, 0, 0, 0, 0],\n",
       "       [0, 0, 0, 0, 8, 0, 6, 0, 1],\n",
       "       [0, 0, 0, 0, 0, 0, 0, 4, 0]])"
      ]
     },
     "execution_count": 14,
     "metadata": {},
     "output_type": "execute_result"
    }
   ],
   "source": [
    "empty_board = np.zeros(shape=(9,9), dtype=int)\n",
    "\n",
    "board_easy = empty_board.copy()\n",
    "\n",
    "board_easy[0,:] = [0,0,0,0,0,0,5,7,3]\n",
    "board_easy[1,:] = [8,0,0,0,2,0,0,0,0]\n",
    "board_easy[2,:] = [7,0,0,9,0,0,8,1,0]\n",
    "board_easy[3,:] = [5,8,0,7,0,6,0,0,0]\n",
    "board_easy[4,:] = [0,0,1,8,0,0,0,6,0]\n",
    "board_easy[5,:] = [2,3,0,0,4,0,0,0,9]\n",
    "board_easy[6,:] = [9,1,5,0,0,0,0,0,0]\n",
    "board_easy[7,:] = [0,0,0,0,8,0,6,0,1]\n",
    "board_easy[8,:] = [0,0,0,0,0,0,0,4,0]\n",
    "\n",
    "board_easy"
   ]
  },
  {
   "cell_type": "code",
   "execution_count": 15,
   "id": "c32d231f",
   "metadata": {},
   "outputs": [
    {
     "data": {
      "text/plain": [
       "array([[0, 0, 0, 0, 0, 0, 5, 7, 3],\n",
       "       [8, 0, 0, 0, 2, 0, 0, 0, 0],\n",
       "       [0, 0, 0, 9, 0, 0, 8, 1, 0],\n",
       "       [5, 0, 0, 7, 0, 6, 0, 0, 0],\n",
       "       [0, 0, 1, 8, 0, 0, 0, 6, 0],\n",
       "       [2, 3, 0, 0, 4, 0, 0, 0, 9],\n",
       "       [0, 1, 5, 0, 0, 0, 0, 0, 0],\n",
       "       [0, 0, 0, 0, 8, 0, 6, 0, 1],\n",
       "       [0, 0, 0, 0, 0, 0, 0, 4, 0]])"
      ]
     },
     "execution_count": 15,
     "metadata": {},
     "output_type": "execute_result"
    }
   ],
   "source": [
    "empty_board = np.zeros(shape=(9,9), dtype=int)\n",
    "\n",
    "board_hard = empty_board.copy()\n",
    "\n",
    "board_hard[0,:] = [0,0,0,0,0,0,5,7,3]\n",
    "board_hard[1,:] = [8,0,0,0,2,0,0,0,0]\n",
    "board_hard[2,:] = [0,0,0,9,0,0,8,1,0]\n",
    "board_hard[3,:] = [5,0,0,7,0,6,0,0,0]\n",
    "board_hard[4,:] = [0,0,1,8,0,0,0,6,0]\n",
    "board_hard[5,:] = [2,3,0,0,4,0,0,0,9]\n",
    "board_hard[6,:] = [0,1,5,0,0,0,0,0,0]\n",
    "board_hard[7,:] = [0,0,0,0,8,0,6,0,1]\n",
    "board_hard[8,:] = [0,0,0,0,0,0,0,4,0]\n",
    "\n",
    "board_hard"
   ]
  },
  {
   "cell_type": "code",
   "execution_count": 276,
   "id": "95286ecc",
   "metadata": {},
   "outputs": [
    {
     "name": "stdout",
     "output_type": "stream",
     "text": [
      "Solved\n",
      "-------------------------\n",
      "| 1 9 2 | 4 6 8 | 5 7 3 |\n",
      "| 8 5 3 | 1 2 7 | 4 9 6 |\n",
      "| 7 6 4 | 9 5 3 | 8 1 2 |\n",
      "-------------------------\n",
      "| 5 8 9 | 7 3 6 | 1 2 4 |\n",
      "| 4 7 1 | 8 9 2 | 3 6 5 |\n",
      "| 2 3 6 | 5 4 1 | 7 8 9 |\n",
      "-------------------------\n",
      "| 9 1 5 | 6 7 4 | 2 3 8 |\n",
      "| 3 4 7 | 2 8 9 | 6 5 1 |\n",
      "| 6 2 8 | 3 1 5 | 9 4 7 |\n",
      "-------------------------\n"
     ]
    }
   ],
   "source": [
    "sudoku_solver(board_easy)"
   ]
  },
  {
   "cell_type": "code",
   "execution_count": 274,
   "id": "a6747c10",
   "metadata": {},
   "outputs": [
    {
     "name": "stdout",
     "output_type": "stream",
     "text": [
      "Unsolved\n",
      "-------------------------\n",
      "| 0 0 0 | 0 0 0 | 5 7 3 |\n",
      "| 8 0 0 | 0 2 0 | 4 9 6 |\n",
      "| 0 0 0 | 9 0 0 | 8 1 2 |\n",
      "-------------------------\n",
      "| 5 0 0 | 7 0 6 | 0 0 0 |\n",
      "| 0 0 1 | 8 0 0 | 0 6 0 |\n",
      "| 2 3 0 | 0 4 0 | 0 0 9 |\n",
      "-------------------------\n",
      "| 0 1 5 | 0 0 0 | 0 0 0 |\n",
      "| 0 0 0 | 0 8 0 | 6 0 1 |\n",
      "| 0 0 0 | 0 0 0 | 0 4 0 |\n",
      "-------------------------\n"
     ]
    }
   ],
   "source": [
    "sudoku_solver(board_hard)"
   ]
  }
 ],
 "metadata": {
  "kernelspec": {
   "display_name": "Python 3",
   "language": "python",
   "name": "python3"
  },
  "language_info": {
   "codemirror_mode": {
    "name": "ipython",
    "version": 3
   },
   "file_extension": ".py",
   "mimetype": "text/x-python",
   "name": "python",
   "nbconvert_exporter": "python",
   "pygments_lexer": "ipython3",
   "version": "3.8.8"
  }
 },
 "nbformat": 4,
 "nbformat_minor": 5
}
