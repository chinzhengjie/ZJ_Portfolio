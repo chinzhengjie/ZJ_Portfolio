{
 "cells": [
  {
   "cell_type": "code",
   "execution_count": 1,
   "id": "6d4f8ae1",
   "metadata": {},
   "outputs": [],
   "source": [
    "import numpy as np"
   ]
  },
  {
   "cell_type": "code",
   "execution_count": 57,
   "id": "fa390af4",
   "metadata": {},
   "outputs": [],
   "source": [
    "def sudoku_solver(board):\n",
    "    \n",
    "    def draw_board(board):\n",
    "        \n",
    "        # Check if the board is an array and the correct size\n",
    "    \n",
    "        if not board.shape == (9, 9):\n",
    "            raise Exception('Board is not the correct size')\n",
    "\n",
    "        if not type(board) == np.ndarray:\n",
    "            raise Exception('Board is not an array')\n",
    "\n",
    "        board_str = board.astype(str)    \n",
    "\n",
    "        for row in range(0,9):\n",
    "\n",
    "            row_separator = '-' * 25\n",
    "            col_separator = '|'\n",
    "            space = ' '\n",
    "\n",
    "            if row % 3 == 0:\n",
    "                print(row_separator)\n",
    "\n",
    "            curr_row = board_str[row]\n",
    "\n",
    "            print(col_separator + space + curr_row[0] + space + curr_row[1] + space + curr_row[2] + space + \\\n",
    "                  col_separator + space + curr_row[3] + space + curr_row[4] + space + curr_row[5] + space + \\\n",
    "                  col_separator + space + curr_row[6] + space + curr_row[7] + space + curr_row[8] + space + col_separator)\n",
    "\n",
    "        print(row_separator)\n",
    "    \n",
    "    \n",
    "    def empty_space(board):                            # This function finds an empty space on the board\n",
    "        for row in range(len(board)):\n",
    "            for col in range(len(board[0])):\n",
    "                if board[row][col] == 0:\n",
    "                    return (row, col)\n",
    "\n",
    "        return None\n",
    "    \n",
    "    \n",
    "    def check(board, num, row, col):\n",
    "    \n",
    "        if board[row][col] == 0:\n",
    "            row_nums = np.unique(board[row])\n",
    "            col_nums = np.unique(board[:,col])\n",
    "\n",
    "            subset_row = row//3\n",
    "            subset_col = col//3\n",
    "            \n",
    "            \n",
    "            # Determine which 3x3 area the selected square is in\n",
    "\n",
    "            if subset_row == 0:\n",
    "                subset_row_index = slice(0,3)\n",
    "\n",
    "            if subset_row == 1:\n",
    "                subset_row_index = slice(3,6)\n",
    "\n",
    "            if subset_row == 2:\n",
    "                subset_row_index = slice(6,9)\n",
    "\n",
    "            if subset_col == 0:\n",
    "                subset_col_index = slice(0,3)\n",
    "\n",
    "            if subset_col == 1:\n",
    "                subset_col_index = slice(3,6)\n",
    "\n",
    "            if subset_col == 2:\n",
    "                subset_col_index = slice(6,9)\n",
    "\n",
    "            subset_nums = np.unique(board[subset_row_index,subset_col_index])\n",
    "\n",
    "            impossible_nums = np.concatenate((row_nums, col_nums, subset_nums),axis=None)\n",
    "            unique_nums = np.unique(impossible_nums)\n",
    "\n",
    "            if unique_nums[0] == 0:\n",
    "                unique_nums = np.delete(unique_nums,0)\n",
    "                \n",
    "            return not num in unique_nums              # Returns True if the number is possible and False otherwise\n",
    "        \n",
    "        \n",
    "    def fill_board(board):\n",
    "        empty = empty_space(board)\n",
    "        \n",
    "        if not empty:\n",
    "            return True\n",
    "        \n",
    "        else:\n",
    "            row = empty[0]\n",
    "            col = empty[1]\n",
    "            \n",
    "            for i in range(1,10):                      # Use a recursive backtracking algorithm to solve the board\n",
    "                if check(board, i, row, col):\n",
    "                    board[row][col] = i\n",
    "                    \n",
    "                    if fill_board(board):\n",
    "                        return True\n",
    "                    \n",
    "                    else:\n",
    "                        board[row][col] = 0\n",
    "                        \n",
    "            return False                               # Returns True if the board is solved and False otherwise\n",
    "    \n",
    "    \n",
    "    \n",
    "    solved_board = board.copy()\n",
    "    \n",
    "    if fill_board(solved_board):\n",
    "        print(\"Solved\")\n",
    "        draw_board(solved_board)\n",
    "        \n",
    "    else:\n",
    "        print(\"Unsolved\")\n",
    "        draw_board(solved_board)\n",
    "    "
   ]
  },
  {
   "cell_type": "code",
   "execution_count": 4,
   "id": "de88c352",
   "metadata": {},
   "outputs": [
    {
     "data": {
      "text/plain": [
       "array([[0, 0, 0, 0, 0, 0, 5, 7, 3],\n",
       "       [8, 0, 0, 0, 2, 0, 0, 0, 0],\n",
       "       [7, 0, 0, 9, 0, 0, 8, 1, 0],\n",
       "       [5, 8, 0, 7, 0, 6, 0, 0, 0],\n",
       "       [0, 0, 1, 8, 0, 0, 0, 6, 0],\n",
       "       [2, 3, 0, 0, 4, 0, 0, 0, 9],\n",
       "       [9, 1, 5, 0, 0, 0, 0, 0, 0],\n",
       "       [0, 0, 0, 0, 8, 0, 6, 0, 1],\n",
       "       [0, 0, 0, 0, 0, 0, 0, 4, 0]])"
      ]
     },
     "execution_count": 4,
     "metadata": {},
     "output_type": "execute_result"
    }
   ],
   "source": [
    "empty_board = np.zeros(shape=(9,9), dtype=int)\n",
    "\n",
    "board_easy = empty_board.copy()\n",
    "\n",
    "board_easy[0,:] = [0,0,0,0,0,0,5,7,3]\n",
    "board_easy[1,:] = [8,0,0,0,2,0,0,0,0]\n",
    "board_easy[2,:] = [7,0,0,9,0,0,8,1,0]\n",
    "board_easy[3,:] = [5,8,0,7,0,6,0,0,0]\n",
    "board_easy[4,:] = [0,0,1,8,0,0,0,6,0]\n",
    "board_easy[5,:] = [2,3,0,0,4,0,0,0,9]\n",
    "board_easy[6,:] = [9,1,5,0,0,0,0,0,0]\n",
    "board_easy[7,:] = [0,0,0,0,8,0,6,0,1]\n",
    "board_easy[8,:] = [0,0,0,0,0,0,0,4,0]\n",
    "\n",
    "board_easy"
   ]
  },
  {
   "cell_type": "code",
   "execution_count": 5,
   "id": "f0723eb7",
   "metadata": {},
   "outputs": [
    {
     "data": {
      "text/plain": [
       "array([[0, 0, 0, 0, 0, 0, 5, 7, 3],\n",
       "       [8, 0, 0, 0, 2, 0, 0, 0, 0],\n",
       "       [0, 0, 0, 9, 0, 0, 8, 1, 0],\n",
       "       [5, 0, 0, 7, 0, 6, 0, 0, 0],\n",
       "       [0, 0, 1, 8, 0, 0, 0, 6, 0],\n",
       "       [2, 3, 0, 0, 4, 0, 0, 0, 9],\n",
       "       [0, 1, 5, 0, 0, 0, 0, 0, 0],\n",
       "       [0, 0, 0, 0, 8, 0, 6, 0, 1],\n",
       "       [0, 0, 0, 0, 0, 0, 0, 4, 0]])"
      ]
     },
     "execution_count": 5,
     "metadata": {},
     "output_type": "execute_result"
    }
   ],
   "source": [
    "empty_board = np.zeros(shape=(9,9), dtype=int)\n",
    "\n",
    "board_hard = empty_board.copy()\n",
    "\n",
    "board_hard[0,:] = [0,0,0,0,0,0,5,7,3]\n",
    "board_hard[1,:] = [8,0,0,0,2,0,0,0,0]\n",
    "board_hard[2,:] = [0,0,0,9,0,0,8,1,0]\n",
    "board_hard[3,:] = [5,0,0,7,0,6,0,0,0]\n",
    "board_hard[4,:] = [0,0,1,8,0,0,0,6,0]\n",
    "board_hard[5,:] = [2,3,0,0,4,0,0,0,9]\n",
    "board_hard[6,:] = [0,1,5,0,0,0,0,0,0]\n",
    "board_hard[7,:] = [0,0,0,0,8,0,6,0,1]\n",
    "board_hard[8,:] = [0,0,0,0,0,0,0,4,0]\n",
    "\n",
    "board_hard"
   ]
  },
  {
   "cell_type": "code",
   "execution_count": 58,
   "id": "c334bed6",
   "metadata": {},
   "outputs": [
    {
     "name": "stdout",
     "output_type": "stream",
     "text": [
      "Solved\n",
      "-------------------------\n",
      "| 1 9 2 | 4 6 8 | 5 7 3 |\n",
      "| 8 5 3 | 1 2 7 | 4 9 6 |\n",
      "| 7 6 4 | 9 5 3 | 8 1 2 |\n",
      "-------------------------\n",
      "| 5 8 9 | 7 3 6 | 1 2 4 |\n",
      "| 4 7 1 | 8 9 2 | 3 6 5 |\n",
      "| 2 3 6 | 5 4 1 | 7 8 9 |\n",
      "-------------------------\n",
      "| 9 1 5 | 6 7 4 | 2 3 8 |\n",
      "| 3 4 7 | 2 8 9 | 6 5 1 |\n",
      "| 6 2 8 | 3 1 5 | 9 4 7 |\n",
      "-------------------------\n"
     ]
    }
   ],
   "source": [
    "sudoku_solver(board_easy)"
   ]
  },
  {
   "cell_type": "code",
   "execution_count": 59,
   "id": "d8999817",
   "metadata": {},
   "outputs": [
    {
     "name": "stdout",
     "output_type": "stream",
     "text": [
      "Solved\n",
      "-------------------------\n",
      "| 1 2 9 | 4 6 8 | 5 7 3 |\n",
      "| 8 5 3 | 1 2 7 | 4 9 6 |\n",
      "| 4 6 7 | 9 5 3 | 8 1 2 |\n",
      "-------------------------\n",
      "| 5 9 8 | 7 3 6 | 1 2 4 |\n",
      "| 7 4 1 | 8 9 2 | 3 6 5 |\n",
      "| 2 3 6 | 5 4 1 | 7 8 9 |\n",
      "-------------------------\n",
      "| 9 1 5 | 6 7 4 | 2 3 8 |\n",
      "| 3 7 4 | 2 8 9 | 6 5 1 |\n",
      "| 6 8 2 | 3 1 5 | 9 4 7 |\n",
      "-------------------------\n"
     ]
    }
   ],
   "source": [
    "sudoku_solver(board_hard)"
   ]
  }
 ],
 "metadata": {
  "kernelspec": {
   "display_name": "Python 3",
   "language": "python",
   "name": "python3"
  },
  "language_info": {
   "codemirror_mode": {
    "name": "ipython",
    "version": 3
   },
   "file_extension": ".py",
   "mimetype": "text/x-python",
   "name": "python",
   "nbconvert_exporter": "python",
   "pygments_lexer": "ipython3",
   "version": "3.8.8"
  }
 },
 "nbformat": 4,
 "nbformat_minor": 5
}
